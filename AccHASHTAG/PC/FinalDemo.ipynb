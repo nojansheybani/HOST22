{
 "cells": [
  {
   "cell_type": "code",
   "execution_count": 8,
   "metadata": {},
   "outputs": [
    {
     "name": "stdout",
     "output_type": "stream",
     "text": [
      "{'conv1': 242, 'conv2': 141, 'conv3': 223, 'fc1': 21, 'fc2': 121}\n"
     ]
    },
    {
     "data": {
      "text/plain": [
       "{0: 'conv1',\n",
       " 1: 'average1',\n",
       " 2: 'conv2',\n",
       " 3: 'average2',\n",
       " 4: 'conv3',\n",
       " 5: 'flatten',\n",
       " 6: 'fc1',\n",
       " 7: 'fc2'}"
      ]
     },
     "execution_count": 8,
     "metadata": {},
     "output_type": "execute_result"
    }
   ],
   "source": [
    "import warnings\n",
    "warnings.filterwarnings(\"ignore\")\n",
    "from PreProcessing import *\n",
    "from hashtagcomm import *\n",
    "model, layers, hashes = preprocess()\n",
    "print(hashes)\n",
    "layers"
   ]
  },
  {
   "cell_type": "code",
   "execution_count": 9,
   "metadata": {},
   "outputs": [
    {
     "name": "stdout",
     "output_type": "stream",
     "text": [
      "torch.Size([6, 1, 5, 5])\n"
     ]
    }
   ],
   "source": [
    "layerToModify = 0\n",
    "attackedModel = bitFlip(model, layers[layerToModify])"
   ]
  },
  {
   "cell_type": "code",
   "execution_count": 10,
   "metadata": {},
   "outputs": [],
   "source": [
    "communicate()"
   ]
  },
  {
   "cell_type": "code",
   "execution_count": 11,
   "metadata": {},
   "outputs": [
    {
     "name": "stdout",
     "output_type": "stream",
     "text": [
      "BITFLIP FOUND IN conv1\n"
     ]
    }
   ],
   "source": [
    "compare(\"hashes.pkl\", \"fpgahashes.pkl\")"
   ]
  },
  {
   "cell_type": "code",
   "execution_count": null,
   "metadata": {},
   "outputs": [],
   "source": []
  },
  {
   "cell_type": "code",
   "execution_count": null,
   "metadata": {},
   "outputs": [],
   "source": []
  }
 ],
 "metadata": {
  "kernelspec": {
   "display_name": "Anaconda Bin",
   "language": "python",
   "name": "myenv"
  },
  "language_info": {
   "codemirror_mode": {
    "name": "ipython",
    "version": 3
   },
   "file_extension": ".py",
   "mimetype": "text/x-python",
   "name": "python",
   "nbconvert_exporter": "python",
   "pygments_lexer": "ipython3",
   "version": "3.6.12"
  }
 },
 "nbformat": 4,
 "nbformat_minor": 4
}

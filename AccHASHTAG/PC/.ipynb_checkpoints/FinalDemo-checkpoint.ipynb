{
 "cells": [
  {
   "cell_type": "code",
   "execution_count": 14,
   "metadata": {},
   "outputs": [
    {
     "name": "stdout",
     "output_type": "stream",
     "text": [
      "{'conv1': 55, 'conv2': 248, 'fc1': 210, 'fc2': 224, 'fc3': 38}\n"
     ]
    },
    {
     "data": {
      "text/plain": [
       "{0: 'conv1',\n",
       " 1: 'relu1',\n",
       " 2: 'pool1',\n",
       " 3: 'conv2',\n",
       " 4: 'relu2',\n",
       " 5: 'pool2',\n",
       " 6: 'fc1',\n",
       " 7: 'relu3',\n",
       " 8: 'fc2',\n",
       " 9: 'relu4',\n",
       " 10: 'fc3',\n",
       " 11: 'relu5'}"
      ]
     },
     "execution_count": 14,
     "metadata": {},
     "output_type": "execute_result"
    }
   ],
   "source": [
    "import warnings\n",
    "warnings.filterwarnings(\"ignore\")\n",
    "from PreProcessing import *\n",
    "from hashtagcomm import *\n",
    "model, layers, hashes = preprocess()\n",
    "print(hashes)\n",
    "layers"
   ]
  },
  {
   "cell_type": "code",
   "execution_count": 15,
   "metadata": {},
   "outputs": [],
   "source": [
    "layerToModify = 3\n",
    "attackedModel = bitFlip(model, layers[layerToModify])"
   ]
  },
  {
   "cell_type": "code",
   "execution_count": 16,
   "metadata": {},
   "outputs": [],
   "source": [
    "communicate()"
   ]
  },
  {
   "cell_type": "code",
   "execution_count": 17,
   "metadata": {},
   "outputs": [
    {
     "name": "stdout",
     "output_type": "stream",
     "text": [
      "BITFLIP FOUND IN conv2\n"
     ]
    }
   ],
   "source": [
    "compare(\"hashes.pkl\", \"fpgahashes.pkl\")"
   ]
  },
  {
   "cell_type": "code",
   "execution_count": null,
   "metadata": {},
   "outputs": [],
   "source": []
  }
 ],
 "metadata": {
  "kernelspec": {
   "display_name": "Anaconda Bin",
   "language": "python",
   "name": "myenv"
  },
  "language_info": {
   "codemirror_mode": {
    "name": "ipython",
    "version": 3
   },
   "file_extension": ".py",
   "mimetype": "text/x-python",
   "name": "python",
   "nbconvert_exporter": "python",
   "pygments_lexer": "ipython3",
   "version": "3.6.12"
  }
 },
 "nbformat": 4,
 "nbformat_minor": 4
}
